{
  "nbformat": 4,
  "nbformat_minor": 0,
  "metadata": {
    "colab": {
      "provenance": [],
      "toc_visible": true,
      "authorship_tag": "ABX9TyNahFO+4ukDGHooI0YVoPU9",
      "include_colab_link": true
    },
    "kernelspec": {
      "name": "python3",
      "display_name": "Python 3"
    },
    "language_info": {
      "name": "python"
    }
  },
  "cells": [
    {
      "cell_type": "markdown",
      "metadata": {
        "id": "view-in-github",
        "colab_type": "text"
      },
      "source": [
        "<a href=\"https://colab.research.google.com/github/EmilyRatvasky/gis-project-portfolio-geo541b/blob/main/basic-mapping/Ratvasky_GEO541B_Assignment1.ipynb\" target=\"_parent\"><img src=\"https://colab.research.google.com/assets/colab-badge.svg\" alt=\"Open In Colab\"/></a>"
      ]
    },
    {
      "cell_type": "markdown",
      "source": [
        "# **GEO 441B/541B Week 1 Assignment: Introduction to ArcGIS Pro GUI**\n",
        "\n",
        "1.   List item\n",
        "2.   List item\n",
        "\n"
      ],
      "metadata": {
        "id": "6HqGNj8NwpgG"
      }
    },
    {
      "cell_type": "markdown",
      "source": [
        "🚀 Created by Emily Ratvasky\n",
        "\n",
        "8/28/2024"
      ],
      "metadata": {
        "id": "Jz5MH6LywO6m"
      }
    },
    {
      "cell_type": "markdown",
      "source": [
        "## **Get ready to start**\n",
        "\n",
        "*   Click **`File/Save a copy in Drive`** to save a copy of this notebook to my own Google Drive\n",
        "\n"
      ],
      "metadata": {
        "id": "UjwA3fj0xAX-"
      }
    },
    {
      "cell_type": "markdown",
      "source": [
        "## **Create my first map using ArcGIS Pro**\n",
        "\n",
        "1. **Instructions**\n",
        "  - Follow mapping instructions from this [Canvas file](https://miamioh.instructure.com/courses/218994/files/32640807?wrap=1)\n",
        "  - Mapping instructions are adapted from *Lab 1: Introduction to ArcGIS Pro* in [GIS Fundamentals Resources page](https://www.gisfundamentals.org/resources)\n",
        "2. **Share map**\n",
        "  - Upload the PNG file exported from ArcGIS Pro to my Google Drive folder for Week 1 assignment\n",
        "  - Change Share privilege to make this file viewable by anyone with a link\n",
        "  - Copy the sharable link\n",
        "3. **Obtain a sharable link**\n",
        "  - The default link I get for this PNG file cannot be directly used in Notebook to show the picture correctly\n",
        "  - I made some changes to the default sharable link:\n",
        "    - Keep the **`1A2B3C4D5E6F7G8H9I0J`** part because this is the unique file ID for the picture\n",
        "    - Deleted **`/view?usp=sharing`** at the end of the link\n",
        "    - Replaced **`/file/d/`** with **`/uc?export=view&id=`**\n",
        "  - Here is an example I referred to:\n",
        "    - Default sharable link  \n",
        "```\n",
        "https://drive.google.com/file/d/1EJ-k4OzK-x1YcYQfzOLXAAYOPb0mBqBo/view?usp=sharing\n",
        "```\n",
        "    - The direct link for view from this example would be\n",
        "```\n",
        "https://drive.google.com/uc?export=view&id=1EJ-k4OzK-x1YcYQfzOLXAAYOPb0mBqBo\n",
        "```\n",
        "   - The link below is the correct one I need to use in the next section\n",
        "\n",
        "    - https://drive.google.com/uc?export=view&id=1EJ-k4OzK-x1YcYQfzOLXAAYOPb0mBqBo\n",
        "\n",
        "\n",
        "\n",
        "\n",
        "4. **Maps**\n",
        "\n",
        "   ![Map](https://drive.google.com/uc?export=view&id=1dzo7ay-rCUi9LmOp5mFF-ySXW0pnXTNA)\n",
        "\n",
        "   ![wetlands](https://drive.google.com/uc?export=view&id=1qiTdpbqeeJFLqyXY57ZCi9-XH5fgDfZy)\n",
        "\n",
        "   ![cloquet](https://drive.google.com/uc?export=view&id=13mi7QNpkBGpzDftwcTp_QtPClQhNZpIK)\n",
        "   "
      ],
      "metadata": {
        "id": "C9eeqy0RxtBe"
      }
    },
    {
      "cell_type": "markdown",
      "source": [
        "## **Reflection on my first experience with ArcGIS Pro**\n",
        "\n",
        "- I was not keeping track of the time I spent on this first map, but I will estimate 3.5-4 hours.\n",
        "- Here is a table showing things that I feel excited and challenging in my first experience working in ArcGIS Pro\n",
        "\n",
        "| Things I'm excited about      | Things challenging for me  |\n",
        "| ----------------------------- | -------------------------- |\n",
        "| seems like once you get the hang of it, making maps can go quite quickly     | It's going to take me a while to get the hang of it, I think  |\n",
        "| the maps look quite professional, so I can use it for my thesis     | I get frustrated easily with technology not cooperating    |\n",
        "| I like how customizable the map components are (I'm a sucker for colors)      | time management may proove difficult as well   |\n",
        "\n",
        "- Here is how I rate my first experience working in ArcGIS Pro\n",
        "  - Data import and management\n",
        "    - Seems relatively straightforward.\n",
        "    - To import data you click the 'add data' button, select the file your map components are in, select the components you want to use, and bam you've got your ingredients.\n",
        "      - [Map] > [Add Data] > select file > select component(s) > [import]\n",
        "    - When you want to save your project, just make sure its saved to a permanent directory.\n",
        "  - Map creation and annotation\n",
        "    - What components you selected to import, are the ones you work with.\n",
        "    - You can customize them using the Symbology tab, or by double clicking on the components' symbols.\n",
        "      - This includes the fill and outline color, the symbol itself, the size of the symbol, etc.\n",
        "    - Once all that is figured out, you can make a layout for your map and add things like a title, a scale bar, a north arrow, and a legend.\n",
        "      - [Insert] > [New Layout > select layout]\n",
        "      - [Insert] > [Map Frame > select map you made]\n",
        "      - North Arrow, a Scale Bar, a Legend, and descriptive text can also be found under the [Insert] tab.\n",
        "    - Once it's all organized nicely, you can export the map as a PNG.\n",
        "      - [Share] > [Export Layout > select format you want] > check everything looks good on the righthand column > [export]\n",
        "  - Navigate the software using its GUI\n",
        "    - user interface makes sense for the most part, relatively intuitive.\n",
        "    - I will note that I am still getting used to where all the components are, and my wires get crossed a bit. For a while there I would go to the layout tab or the imagry tab to look for the north arrow and the like. Also, the symbology tab was not there at first, and it took some futzing around for me to figure out how to open it."
      ],
      "metadata": {
        "id": "yZB_WHpd7c2t"
      }
    },
    {
      "cell_type": "markdown",
      "source": [
        "## **Save and share this notebook**\n",
        "\n",
        "- I made this notebook viewable by anyone with the link\n",
        "\n",
        "![Share Notebook](https://drive.google.com/uc?export=view&id=1K4a3saeAXrzKcB4fkivkjUmLLWJ1R7oS)\n",
        "\n",
        "- Then I copied this link as my submission to Assignment Week 1"
      ],
      "metadata": {
        "id": "qDOJHww27uYg"
      }
    },
    {
      "cell_type": "markdown",
      "source": [
        "## **Reference**\n",
        "\n",
        "- [Markdown cheat sheet](https://www.markdownguide.org/cheat-sheet/)\n",
        "- [Insert other references]"
      ],
      "metadata": {
        "id": "5LUWtCKE7x6Q"
      }
    }
  ]
}